{
 "cells": [
  {
   "cell_type": "code",
   "execution_count": 31,
   "id": "d070abb0-f83b-49ac-8ee9-d74da6dde4be",
   "metadata": {},
   "outputs": [],
   "source": [
    "import json\n",
    "import pymongo\n",
    "\n",
    "database_client = pymongo.MongoClient('localhost', 27017)\n",
    "# créer la base de données devoirs\n",
    "my_database = database_client[\"homework\"]\n",
    "# créer la collection articles\n",
    "articles_collection = my_database[\"pubmed\"]\n",
    "with open('C:/Users/sloua/OneDrive/Desktop/NoSQL-master/NoSQL-master/data/Chap3/pubmed_cleaned/pubmed_cleaned.json') as file:\n",
    "    file_data = json.load(file)"
   ]
  },
  {
   "cell_type": "code",
   "execution_count": 32,
   "id": "57a8173b-8f32-40be-8b06-9a239228b0de",
   "metadata": {},
   "outputs": [],
   "source": [
    "from bson import ObjectId"
   ]
  },
  {
   "cell_type": "code",
   "execution_count": null,
   "id": "5ddad44e-2a73-49c2-ae45-65531906510c",
   "metadata": {},
   "outputs": [],
   "source": [
    "# convertir les identifiants en ObjectId\n",
    "for document in file_data:\n",
    "    if '_id' in document and '$oid' in document['_id']:\n",
    "        document['_id'] = ObjectId(document['_id']['$oid'])\n",
    "\n",
    "# insérer les données dans la collection\n",
    "articles_collection.insert_many(file_data)"
   ]
  },
  {
   "cell_type": "code",
   "execution_count": null,
   "id": "eff93a12-68e0-42a8-a0ec-275dbab02dad",
   "metadata": {},
   "outputs": [],
   "source": [
    "# récupérer le premier document de la collection\n",
    "document = articles_collection.find_one()\n",
    "print(document)"
   ]
  },
  {
   "cell_type": "code",
   "execution_count": null,
   "id": "f82255f6-5f6f-4eb6-840f-65ee2887aa3e",
   "metadata": {},
   "outputs": [],
   "source": [
    "from datetime import datetime\n",
    "\n",
    "# supprimer tous les articles publiés avant 2019\n",
    "date_before = datetime(2019, 1, 1, 0, 0)\n",
    "result = articles_collection.delete_many({\"date\": {\"$lt\": date_before}})\n",
    "print(f\"Nombre de documents supprimés: {result.deleted_count}\")\n"
   ]
  },
  {
   "cell_type": "code",
   "execution_count": null,
   "id": "775144b3-4355-4cc0-9f7f-c7daf6a834ce",
   "metadata": {},
   "outputs": [],
   "source": [
    "# compter le nombre d'articles avec un seul auteur\n",
    "num_single_author_papers = articles_collection.count_documents({\"authors\": {\"$regex\": \"name ml\"}})\n",
    "print(f\"Nombre de documents avec un seul auteur : {num_single_author_papers}\")"
   ]
  },
  {
   "cell_type": "code",
   "execution_count": null,
   "id": "5e8badec-361c-4160-b2f8-2911da8c0e69",
   "metadata": {},
   "outputs": [],
   "source": [
    "# Initialiser des compteurs pour les documents avec un auteur et deux auteurs\n",
    "num_single_author_documents = 0\n",
    "num_two_authors_documents = 0\n",
    "\n",
    "# Compter le nombre de documents avec un seul auteur et deux auteurs\n",
    "for document in articles_collection.find():\n",
    "    authors = document['authors'].split(', ')\n",
    "    num_authors = len(authors)\n",
    "    if num_authors == 1:\n",
    "        num_single_author_documents += 1\n",
    "    elif num_authors == 2:\n",
    "        num_two_authors_documents += 1\n",
    "\n",
    "# Afficher les résultats\n",
    "print(\"Nombre de documents avec un seul auteur :\", num_single_author_documents)\n",
    "print(\"Nombre de documents avec deux auteurs :\", num_two_authors_documents)"
   ]
  },
  {
   "cell_type": "code",
   "execution_count": null,
   "id": "297c90e2-7400-4163-a957-2a4e5d594330",
   "metadata": {},
   "outputs": [],
   "source": [
    "# Trouver le dernier document inséré dans la collection\n",
    "last_paper = articles_collection.find_one(sort=[('_id', -1)])\n",
    "\n",
    "# Afficher les détails du dernier document\n",
    "print(\"Dernier document inséré :\")\n",
    "print(\"Titre :\", last_paper['title'])\n",
    "print(\"Auteurs :\", last_paper['authors'])\n",
    "print(\"Date :\", last_paper['date'])"
   ]
  },
  {
   "cell_type": "code",
   "execution_count": null,
   "id": "1b736dad-128f-4ebc-9182-00060b7324b7",
   "metadata": {},
   "outputs": [],
   "source": [
    "from pymongo import MongoClient\n",
    "\n",
    "# Se connecter à la base de données et sélectionner la collection\n",
    "client = MongoClient('localhost', 27017)\n",
    "db = client['homework']\n",
    "collection = db['pubmed']\n",
    "\n",
    "# Recherche des articles avec des meshwords nuls ou vides\n",
    "query = {\"meshwords\": {\"$in\": [None, \"\"]}}\n",
    "articles_with_null_meshwords = collection.find(query)\n",
    "\n",
    "# Affichage des résultats de la recherche\n",
    "print(\"Articles with null meshwords:\")\n",
    "for article in articles_with_null_meshwords:\n",
    "    print(\"Title:\", article['title'])"
   ]
  },
  {
   "cell_type": "code",
   "execution_count": null,
   "id": "1dc01568-49fb-4ddb-b27c-4e3a57d59cb8",
   "metadata": {},
   "outputs": [],
   "source": [
    "from pymongo import MongoClient\n",
    "\n",
    "client = MongoClient('localhost', 27017)\n",
    "db = client['homework']\n",
    "collection = db['pubmed']\n",
    "keyword = \"nuclear medicine\" # On change le mot-clé d'intérêt\n",
    "\n",
    "# Compter le nombre d'articles contenant le mot-clé dans les meshwords, le titre ou l'abstract\n",
    "nombre_articles = articles_collection.count_documents({\n",
    "    \"$or\": [\n",
    "        {\"meshwords\": {\"$regex\": f\".*{keyword}.*\", \"$options\": \"i\"}},\n",
    "        {\"abstract\": {\"$regex\": f\".*{keyword}.*\", \"$options\": \"i\"}},\n",
    "        {\"title\": {\"$regex\": f\".*{keyword}.*\", \"$options\": \"i\"}}\n",
    "    ]\n",
    "})\n",
    "\n",
    "print(f\"Nombre d'articles avec le mot-clé '{keyword}': {nombre_articles}\")"
   ]
  },
  {
   "cell_type": "code",
   "execution_count": null,
   "id": "d21792df-f95f-478b-8ea6-a9a7e7942b0c",
   "metadata": {},
   "outputs": [],
   "source": [
    "article_count = articles_collection.count_documents({\n",
    "    \"$and\": [\n",
    "        {\"affiliations\": {\"$exists\": True}},\n",
    "        {\"meshwords\": {\"$exists\": True}}\n",
    "    ]\n",
    "})\n",
    "\n",
    "print(f\"Nombre d'articles avec au moins une affiliation et des meshwords: {article_count}\")"
   ]
  },
  {
   "cell_type": "code",
   "execution_count": null,
   "id": "410ec19c-3145-4fb9-a8f9-637b60edd09e",
   "metadata": {},
   "outputs": [],
   "source": [
    "# Count the number of articles with a publishing date after 2020\n",
    "article_count = articles_collection.count_documents({\n",
    "    \"date\": {\"$gt\": \"year 2020\"}\n",
    "})\n",
    "\n",
    "print(f\"Number of articles with a publishing date after 2020: {article_count}\")"
   ]
  },
  {
   "cell_type": "code",
   "execution_count": null,
   "id": "363d36e4-a383-4a5d-8710-45c93bbfde41",
   "metadata": {},
   "outputs": [],
   "source": [
    "article_count = articles_collection.count_documents({\n",
    "    \"authors\": {\"$regex\": \"China\"}})\n",
    "print(\"Number of articles with at least one affiliation from China:\", article_count)\n",
    "article_country= articles_collection.find({\"authors\":{\"$regex\": \"China\"}})\n",
    "for article in article_country:\n",
    "    print(\"ID:\", article[\"_id\"],\"Title :\", article[\"title\"])"
   ]
  },
  {
   "cell_type": "code",
   "execution_count": null,
   "id": "3a22a7ff-7d5f-4f58-be9f-186431bd121e",
   "metadata": {},
   "outputs": [],
   "source": [
    "# Vérifier s'il y a des doublons\n",
    "\n",
    "distinct_pmids = articles_collection.distinct(\"pmid\")\n",
    "\n",
    "# Vérifier s'il y a des doublons\n",
    "duplicates = len(distinct_pmids) != articles_collection.count_documents({})\n",
    "\n",
    "# Afficher le résultat\n",
    "if duplicates:\n",
    "    print(\"Des doublons ont été trouvés.\")\n",
    "else:\n",
    "    print(\"Aucun doublon n'a été trouvé.\")\n"
   ]
  },
  {
   "cell_type": "code",
   "execution_count": null,
   "id": "f782b65b-997e-4b19-98f3-3cc75beacb5d",
   "metadata": {},
   "outputs": [],
   "source": [
    "# Trouver les articles dont le résumé commence par la lettre \"R\"\n",
    "articles_to_remove = list(articles_collection.find({\"abstract\": {\"$regex\": \"^R\"}}))\n",
    "\n",
    "# Supprimer chaque article de la collection\n",
    "for article in articles_to_remove:\n",
    "    articles_collection.delete_one({\"_id\": article[\"_id\"]})\n",
    "\n",
    "# Vérifier le nombre d'articles restants dans la collection\n",
    "article_count = articles_collection.count_documents({})\n",
    "print(f\"{article_count} articles remaining in collection.\")"
   ]
  },
  {
   "cell_type": "code",
   "execution_count": null,
   "id": "65de40b5-d3c6-410a-8d1f-d32e84f2eedb",
   "metadata": {},
   "outputs": [],
   "source": [
    "articles_filtres = articles_collection.find({\"abstract\": {\"$regex\": \"^\\\\s*\\\"R\"}})\n",
    "for article in articles_filtres:\n",
    "    print(\"title :\", article[\"title\"])\n",
    "    print(\"abstract :\", article[\"abstract\"])"
   ]
  },
  {
   "cell_type": "code",
   "execution_count": null,
   "id": "33a62d07-b0cc-4128-ba46-b52de386d34d",
   "metadata": {},
   "outputs": [],
   "source": [
    "print(\"init count: \",articles_collection.count_documents({\"abstract\": {\"$regex\": \"^\\\\s*\\\"R\"}}))\n",
    "articles_collection.delete_many({\"abstract\": {\"$regex\": \"^\\\\s*\\\"R\"}})\n",
    "print(\"after delete many: \",articles_collection.count_documents({\"abstract\": {\"$regex\": \"^\\\\s*\\\"R\"}}))"
   ]
  },
  {
   "cell_type": "code",
   "execution_count": null,
   "id": "c17a312b-f0c7-450a-942b-0316379323d8",
   "metadata": {},
   "outputs": [],
   "source": [
    "#Retourne la liste des articles (pmid) où chaque auteur a au moins une affiliation\n",
    "articles = articles_collection.find(\n",
    "    {\"authors\": {\"$exists\": True}}\n",
    ")\n",
    "liste_articles = [article[\"pmid\"] for article in articles if len(article.get(\"authors\", [])) > 0]\n",
    "print(liste_articles)"
   ]
  },
  {
   "cell_type": "code",
   "execution_count": null,
   "id": "7d72a9b5-cb6b-4aa2-92e4-ddc341f21e4e",
   "metadata": {},
   "outputs": [],
   "source": [
    "#Créer 500 échantillons aléatoires du jeu de données\n",
    "#calculer une statistique qui vous intéresse et vérifier son comportement à travers les différents échantillons\n",
    "#Définir le nombre d'échantillons\n",
    "num_samples = 500\n",
    "\n",
    "#Définir la statistique d'intérêt\n",
    "statistics = []\n",
    "\n",
    "#Échantillonner et calculer la statistique pour chaque échantillon\n",
    "for i in range(num_samples):\n",
    "    #Échantillonner des documents aléatoirement à partir de la collection\n",
    "    sample = articles_collection.aggregate([\n",
    "        {\"$sample\": {\"size\": 100}}  #Ajuster la taille de l'échantillon au besoin\n",
    "    ])\n",
    "\n",
    "    # Calculer la statistique d'intérêt pour l'échantillon\n",
    "    # Ici, nous calculons la taille d'équipe moyenne\n",
    "    team_sizes = [doc.get(\"team_size\", 0) for doc in sample]\n",
    "    average_team_size = sum(team_sizes) / len(team_sizes)\n",
    "    \n",
    "    # Ajouter la statistique calculée à la liste\n",
    "    statistics.append(average_team_size)\n",
    "\n",
    "#Afficher les statistiques\n",
    "print(statistics)"
   ]
  }
 ],
 "metadata": {
  "kernelspec": {
   "display_name": "Python 3 (ipykernel)",
   "language": "python",
   "name": "python3"
  },
  "language_info": {
   "codemirror_mode": {
    "name": "ipython",
    "version": 3
   },
   "file_extension": ".py",
   "mimetype": "text/x-python",
   "name": "python",
   "nbconvert_exporter": "python",
   "pygments_lexer": "ipython3",
   "version": "3.9.13"
  }
 },
 "nbformat": 4,
 "nbformat_minor": 5
}
